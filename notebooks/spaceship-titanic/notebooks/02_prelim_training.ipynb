{
 "cells": [
  {
   "cell_type": "code",
   "execution_count": null,
   "id": "d05a5dbc-6573-4e63-ad44-abfe353ae051",
   "metadata": {},
   "outputs": [],
   "source": [
    "# Add the project root to the Python path so we can import from sibling folders like `utils/`\n",
    "import sys\n",
    "import os\n",
    "sys.path.append(os.path.abspath(\"..\"))\n",
    "\n",
    "\n",
    "# Imports\n",
    "# data analysis and wrangling\n",
    "import numpy as np # linear algebra\n",
    "import pandas as pd # data processing, CSV file I/O (e.g. pd.read_csv)\n",
    "\n",
    "# visualization\n",
    "import seaborn as sns\n",
    "import matplotlib.pyplot as plt\n",
    "%matplotlib inline\n",
    "from IPython.display import display\n",
    "\n",
    "\n",
    "# machine learning\n",
    "from sklearn.datasets import fetch_openml\n",
    "from sklearn.model_selection import train_test_split\n",
    "\n",
    "# utils\n",
    "import importlib\n",
    "from utils import visualize, feature_engineering\n",
    "importlib.reload(visualize)\n",
    "importlib.reload(feature_engineering)\n",
    "\n",
    "from utils.visualize import visualize_overview, plot_numerics, plot_categoricals, describe_custom, split_and_append_column, sum_columns, plot_violin, plot_count\n",
    "from feature_engineering import prepare_features\n"
   ]
  },
  {
   "cell_type": "code",
   "execution_count": null,
   "id": "32a8748e-95b0-4fd5-aca6-c3935614c2da",
   "metadata": {},
   "outputs": [],
   "source": [
    "\n",
    "# Load data\n",
    "train_df = pd.read_csv(\"../data/train.csv\")\n",
    "train_df = prepare_features(train_df)\n",
    "\n",
    "# Prepare features and target\n",
    "target = 'Transported'\n",
    "features = ['CryoSleep', 'VIP', 'Age', 'TotalSpend','HomePlanet', 'Destination', 'CabinDeck', 'CabinSide']\n",
    "\n",
    "# Load data\n",
    "train_df = pd.read_csv(\"../data/train.csv\")\n",
    "train_engineered_df = prepare_features(train_df)\n",
    "\n",
    "# Now extract features and target using NumPy\n",
    "X = train_engineered_df[['CryoSleep', 'VIP', 'Age', 'TotalSpend','HomePlanet', 'Destination', 'CabinDeck', 'CabinSide']].to_numpy()\n",
    "y = train_engineered_df['Transported'].to_numpy()\n",
    "\n",
    "# Split training and test data\n",
    "X_train, X_test, y_train, y_test = train_test_split(X, y, test_size=0.33, random_state=42)\n",
    "\n",
    "X_train = X_train.T  # Now shape is (6, 891)\n",
    "y_train = y_train.reshape(1, -1)  # Make y a row vector of shape (1, 891)\n",
    "\n",
    "X_test = X_test.T  # Now shape is (6, 891)\n",
    "y_test = y_test.reshape(1, -1)  # Make y a row vector of shape (1, 891)\n",
    "\n",
    "print(X_train.shape , X_test.shape , y_train.shape , y_test.shape)"
   ]
  },
  {
   "cell_type": "code",
   "execution_count": null,
   "id": "5e14e565-b297-499f-abb1-0343cb750ec9",
   "metadata": {},
   "outputs": [],
   "source": []
  }
 ],
 "metadata": {
  "kernelspec": {
   "display_name": "Python 3 (ipykernel)",
   "language": "python",
   "name": "python3"
  },
  "language_info": {
   "codemirror_mode": {
    "name": "ipython",
    "version": 3
   },
   "file_extension": ".py",
   "mimetype": "text/x-python",
   "name": "python",
   "nbconvert_exporter": "python",
   "pygments_lexer": "ipython3",
   "version": "3.13.2"
  }
 },
 "nbformat": 4,
 "nbformat_minor": 5
}
