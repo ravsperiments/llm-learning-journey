{
 "cells": [
  {
   "cell_type": "code",
   "execution_count": 3,
   "id": "aeb5626d-b7d6-4108-b331-b310d07f2ca7",
   "metadata": {},
   "outputs": [
    {
     "name": "stdout",
     "output_type": "stream",
     "text": [
      "Total characters: 10925424\n",
      "Unique characters: 105\n",
      "Sample char_to_ix: [(' ', 0), ('!', 1), ('\"', 2), ('#', 3), ('$', 4), ('%', 5), ('&', 6), (\"'\", 7), ('(', 8), (')', 9)]\n",
      "Encoded text (first 20 indices): [31, 72, 80, 68, 75, 81, 67, 68, 0, 39, 0, 68, 61, 82, 65, 0, 83, 78, 69, 80]\n"
     ]
    }
   ],
   "source": [
    "# Step 1: Load and preprocess text\n",
    "import numpy as np\n",
    "\n",
    "# Load cleaned Asimov corpus\n",
    "with open(\"data/asimov_cleaned.txt\", \"r\", encoding=\"utf-8\") as f:\n",
    "    data = f.read()\n",
    "\n",
    "# Get all unique characters in the text\n",
    "chars = sorted(list(set(data)))\n",
    "vocab_size = len(chars)\n",
    "\n",
    "# Create character-to-index and index-to-character mappings\n",
    "char_to_ix = {ch: i for i, ch in enumerate(chars)}\n",
    "ix_to_char = {i: ch for ch, i in char_to_ix.items()}\n",
    "\n",
    "# Encode the entire text as a list of character indices\n",
    "data_ix = [char_to_ix[ch] for ch in data]\n",
    "\n",
    "# Print some basic stats\n",
    "print(f\"Total characters: {len(data)}\")\n",
    "print(f\"Unique characters: {vocab_size}\")\n",
    "print(f\"Sample char_to_ix: {list(char_to_ix.items())[:10]}\")\n",
    "print(f\"Encoded text (first 20 indices): {data_ix[:20]}\")\n"
   ]
  },
  {
   "cell_type": "code",
   "execution_count": null,
   "id": "aa1d414b-2fec-4f0b-bc26-d1b5a8e789fb",
   "metadata": {},
   "outputs": [],
   "source": []
  }
 ],
 "metadata": {
  "kernelspec": {
   "display_name": "Python 3 (ipykernel)",
   "language": "python",
   "name": "python3"
  },
  "language_info": {
   "codemirror_mode": {
    "name": "ipython",
    "version": 3
   },
   "file_extension": ".py",
   "mimetype": "text/x-python",
   "name": "python",
   "nbconvert_exporter": "python",
   "pygments_lexer": "ipython3",
   "version": "3.13.3"
  }
 },
 "nbformat": 4,
 "nbformat_minor": 5
}
