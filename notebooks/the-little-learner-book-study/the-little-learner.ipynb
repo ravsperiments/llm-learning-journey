{
 "cells": [
  {
   "cell_type": "code",
   "execution_count": 75,
   "id": "985eb796-d6bf-4a54-88e8-3ac6eb727815",
   "metadata": {},
   "outputs": [],
   "source": [
    "from math import sqrt"
   ]
  },
  {
   "cell_type": "code",
   "execution_count": 59,
   "id": "490936c4-f80a-40e9-91f9-ad89154341fa",
   "metadata": {},
   "outputs": [],
   "source": [
    "def line(x):\n",
    "    return lambda w,b: w*x + b       "
   ]
  },
  {
   "cell_type": "code",
   "execution_count": 60,
   "id": "c4b8d039-2a11-490a-9ed2-f7540783a42a",
   "metadata": {},
   "outputs": [
    {
     "name": "stdout",
     "output_type": "stream",
     "text": [
      "11\n"
     ]
    }
   ],
   "source": [
    "f = line(3)\n",
    "print(f(3, 2))"
   ]
  },
  {
   "cell_type": "code",
   "execution_count": 61,
   "id": "b9bc4b49-f765-492a-b586-8cb2a00ec91f",
   "metadata": {},
   "outputs": [],
   "source": [
    "# recursive rank function \n",
    "def ranked(t):\n",
    "    if not isinstance(t, list):\n",
    "        return 0\n",
    "    return 1 + rank(t[0])"
   ]
  },
  {
   "cell_type": "code",
   "execution_count": 62,
   "id": "547afc24-685b-4e39-a30a-a5de05072b62",
   "metadata": {},
   "outputs": [
    {
     "name": "stdout",
     "output_type": "stream",
     "text": [
      "Rank of [9, 16, 25] = 1\n"
     ]
    }
   ],
   "source": [
    "t = [9, 16 , 25]\n",
    "print(f\"Rank of {t} = {rank(t)}\")"
   ]
  },
  {
   "cell_type": "code",
   "execution_count": 63,
   "id": "2bb1a84c-a5f5-4928-ab7b-ea89ca2d34cd",
   "metadata": {},
   "outputs": [],
   "source": [
    "#unwrapped rank function\n",
    "def ranker(t, a):\n",
    "    if not isinstance(t, list):\n",
    "        return a\n",
    "    else:\n",
    "        return rank_accumulator(t[0], a+1)\n",
    "    \n",
    "def rank(t):\n",
    "    return ranker(t, 0) "
   ]
  },
  {
   "cell_type": "code",
   "execution_count": 64,
   "id": "18288789-1170-4620-9532-e03aa81b6b9a",
   "metadata": {},
   "outputs": [
    {
     "name": "stdout",
     "output_type": "stream",
     "text": [
      "Rank of [9, 16, 25] = 1\n"
     ]
    }
   ],
   "source": [
    "print(f\"Rank of {t} = {ranked(t)}\")"
   ]
  },
  {
   "cell_type": "code",
   "execution_count": 65,
   "id": "7bded975-258b-494f-abfe-7834c4678c7d",
   "metadata": {},
   "outputs": [],
   "source": [
    "# sum1 function\n",
    "\n",
    "def sum1(t):\n",
    "    if rank(t) == 1 and len(t) > 0:\n",
    "        return summer1(t, len(t)-1, 0)\n",
    "    else:\n",
    "        return -1\n",
    "\n",
    "def summer1(t,i, a):\n",
    "    if i == 0:\n",
    "        return t[0] + a\n",
    "    else:\n",
    "        return summer1(t, i - 1, t[i] + a)"
   ]
  },
  {
   "cell_type": "code",
   "execution_count": 66,
   "id": "2876cb09-57cb-47d9-a794-a8990e469698",
   "metadata": {},
   "outputs": [
    {
     "data": {
      "text/plain": [
       "50"
      ]
     },
     "execution_count": 66,
     "metadata": {},
     "output_type": "execute_result"
    }
   ],
   "source": [
    "sum1(t)"
   ]
  },
  {
   "cell_type": "code",
   "execution_count": 76,
   "id": "29fcf923-625e-41fc-90bb-d0df5b88f2fa",
   "metadata": {},
   "outputs": [],
   "source": [
    "# squareroot function \n",
    "\n",
    "def sqroot(t):\n",
    "    return sqrooted(t)\n",
    "\n",
    "def sqrooted(t):\n",
    "    if isinstance(t, list):\n",
    "        return [sqrooted(x) for x in t]\n",
    "    else: return sqrt(t)"
   ]
  },
  {
   "cell_type": "code",
   "execution_count": 82,
   "id": "d492e0df-cbf0-4fce-96f7-e31d33681e64",
   "metadata": {},
   "outputs": [
    {
     "data": {
      "text/plain": [
       "[3.0, 4.0, 5.0]"
      ]
     },
     "execution_count": 82,
     "metadata": {},
     "output_type": "execute_result"
    }
   ],
   "source": [
    "sqroot(t)"
   ]
  },
  {
   "cell_type": "code",
   "execution_count": 80,
   "id": "0a010b62-98d6-462c-8846-466cd91903c7",
   "metadata": {},
   "outputs": [],
   "source": [
    "# square function \n",
    "\n",
    "def sqr(t):\n",
    "    return sqred(t)\n",
    "\n",
    "def sqred(t):\n",
    "    if isinstance(t, list):\n",
    "        return [sqred(x) for x in t]\n",
    "    else: return  t * t"
   ]
  },
  {
   "cell_type": "code",
   "execution_count": 154,
   "id": "dca021a0-9ac2-42ab-ae02-e5d8df5657ff",
   "metadata": {},
   "outputs": [],
   "source": [
    "# pairwise sum\n",
    "\n",
    "def hadamard_sum(a, b):\n",
    "    if isinstance(a, list) and isinstance(b, list):\n",
    "        return [hadamard_sum(x, y) for x, y in zip(a, b)]\n",
    "    elif isinstance(a, list):\n",
    "        return [hadamard_sum(x, b) for x in a]\n",
    "    elif isinstance(b, list):\n",
    "        return [hadamard_sum(a, y) for y in b]\n",
    "    else:\n",
    "        return a + b\n",
    "\n",
    "\n",
    "def hadamard_sub(a, b):\n",
    "    if isinstance(a, list) and isinstance(b, list):\n",
    "        return [hadamard_sub(x, y) for x, y in zip(a, b)]\n",
    "    elif isinstance(a, list):\n",
    "        return [hadamard_sub(x, b) for x in a]\n",
    "    elif isinstance(b, list):\n",
    "        return [hadamard_sub(a, y) for y in b]\n",
    "    else:\n",
    "        return a - b\n"
   ]
  },
  {
   "cell_type": "code",
   "execution_count": 155,
   "id": "6c476f20-1dcb-4b08-b247-0ffd27242213",
   "metadata": {},
   "outputs": [],
   "source": [
    "# pairwise product\n",
    "\n",
    "def hadamard_product(a, b):\n",
    "    if isinstance(a, list) and isinstance(b, list):\n",
    "        return [hadamard_product(x, y) for x, y in zip(a, b)]\n",
    "    elif isinstance(a, list):\n",
    "        return [hadamard_product(x, b) for x in a]\n",
    "    elif isinstance(b, list):\n",
    "        return [hadamard_product(a, y) for y in b]\n",
    "    else:\n",
    "        return a * b"
   ]
  },
  {
   "cell_type": "code",
   "execution_count": 182,
   "id": "214f761e-f7a1-4a34-b2ab-bce96646fffb",
   "metadata": {},
   "outputs": [],
   "source": [
    "def line(xs):\n",
    "    return lambda th: [th[0]*x + th[1] for x in xs]\n",
    "\n",
    "def l2_loss(target):\n",
    "    def expectant(xs, ys):\n",
    "        def apply_theta(theta):\n",
    "            pred_ys = line(xs)(theta)\n",
    "            print(pred_ys)\n",
    "            diffs = hadamard_sub(ys, pred_ys)\n",
    "            print(diffs)\n",
    "            return sum1(sqr(diffs))\n",
    "        return apply_theta\n",
    "    return expectant\n"
   ]
  },
  {
   "cell_type": "code",
   "execution_count": 196,
   "id": "7c6371a6-4668-4ca0-b47e-ec6b4f076655",
   "metadata": {
    "scrolled": true
   },
   "outputs": [],
   "source": [
    "xs = [2.0, 1.0, 4.0, 3.0]\n",
    "ys = [1.8, 1.2, 4.2, 3.3]\n",
    "th = [0.6263, 0.0]"
   ]
  },
  {
   "cell_type": "code",
   "execution_count": 197,
   "id": "3f228d41-1ed5-45f5-88a2-7c66bcb25f20",
   "metadata": {},
   "outputs": [
    {
     "name": "stdout",
     "output_type": "stream",
     "text": [
      "[1.2526, 0.6263, 2.5052, 1.8788999999999998]\n",
      "[0.5474000000000001, 0.5737, 1.6948000000000003, 1.4211]\n"
     ]
    }
   ],
   "source": [
    "loss = l2_loss(line)(xs, ys)(th)"
   ]
  },
  {
   "cell_type": "code",
   "execution_count": 198,
   "id": "5484a04f-8243-4a19-85d8-290f7356aa11",
   "metadata": {},
   "outputs": [
    {
     "name": "stdout",
     "output_type": "stream",
     "text": [
      "[1.8, 1.2, 4.2, 3.3] [0.0, 0.0, 0.0, 0.0] 5.520650700000001\n"
     ]
    }
   ],
   "source": [
    "print(y, pred_y, loss)"
   ]
  },
  {
   "cell_type": "code",
   "execution_count": null,
   "id": "2186ef71-483c-4bfe-a56a-77c6a232a3b9",
   "metadata": {},
   "outputs": [],
   "source": []
  }
 ],
 "metadata": {
  "kernelspec": {
   "display_name": "Python 3 (ipykernel)",
   "language": "python",
   "name": "python3"
  },
  "language_info": {
   "codemirror_mode": {
    "name": "ipython",
    "version": 3
   },
   "file_extension": ".py",
   "mimetype": "text/x-python",
   "name": "python",
   "nbconvert_exporter": "python",
   "pygments_lexer": "ipython3",
   "version": "3.13.3"
  }
 },
 "nbformat": 4,
 "nbformat_minor": 5
}
