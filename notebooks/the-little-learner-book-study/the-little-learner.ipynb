{
 "cells": [
  {
   "cell_type": "code",
   "execution_count": 6,
   "id": "985eb796-d6bf-4a54-88e8-3ac6eb727815",
   "metadata": {},
   "outputs": [],
   "source": [
    "from math import sqrt"
   ]
  },
  {
   "cell_type": "code",
   "execution_count": 7,
   "id": "490936c4-f80a-40e9-91f9-ad89154341fa",
   "metadata": {},
   "outputs": [],
   "source": [
    "def line(x):\n",
    "    return lambda w,b: w*x + b       "
   ]
  },
  {
   "cell_type": "code",
   "execution_count": 8,
   "id": "c4b8d039-2a11-490a-9ed2-f7540783a42a",
   "metadata": {},
   "outputs": [
    {
     "name": "stdout",
     "output_type": "stream",
     "text": [
      "11\n"
     ]
    }
   ],
   "source": [
    "f = line(3)\n",
    "print(f(3, 2))"
   ]
  },
  {
   "cell_type": "code",
   "execution_count": 9,
   "id": "b9bc4b49-f765-492a-b586-8cb2a00ec91f",
   "metadata": {},
   "outputs": [],
   "source": [
    "# recursive rank function \n",
    "def ranked(t):\n",
    "    if not isinstance(t, list):\n",
    "        return 0\n",
    "    return 1 + ranked(t[0])"
   ]
  },
  {
   "cell_type": "code",
   "execution_count": 10,
   "id": "547afc24-685b-4e39-a30a-a5de05072b62",
   "metadata": {},
   "outputs": [
    {
     "name": "stdout",
     "output_type": "stream",
     "text": [
      "Rank of [9, 16, 25] = 1\n"
     ]
    }
   ],
   "source": [
    "t = [9, 16 , 25]\n",
    "print(f\"Rank of {t} = {ranked(t)}\")"
   ]
  },
  {
   "cell_type": "code",
   "execution_count": 11,
   "id": "2bb1a84c-a5f5-4928-ab7b-ea89ca2d34cd",
   "metadata": {},
   "outputs": [],
   "source": [
    "#unwrapped rank function\n",
    "def ranker(t, a):\n",
    "    if not isinstance(t, list):\n",
    "        return a\n",
    "    else:\n",
    "        return ranker(t[0], a+1)\n",
    "    \n",
    "def rank(t):\n",
    "    return ranker(t, 0) "
   ]
  },
  {
   "cell_type": "code",
   "execution_count": 12,
   "id": "18288789-1170-4620-9532-e03aa81b6b9a",
   "metadata": {},
   "outputs": [
    {
     "name": "stdout",
     "output_type": "stream",
     "text": [
      "Rank of [9, 16, 25] = 1\n"
     ]
    }
   ],
   "source": [
    "print(f\"Rank of {t} = {ranked(t)}\")"
   ]
  },
  {
   "cell_type": "code",
   "execution_count": 13,
   "id": "7bded975-258b-494f-abfe-7834c4678c7d",
   "metadata": {},
   "outputs": [],
   "source": [
    "# sum1 function\n",
    "\n",
    "def sum1(t):\n",
    "    if rank(t) == 1 and len(t) > 0:\n",
    "        return summer1(t, len(t)-1, 0)\n",
    "    else:\n",
    "        return -1\n",
    "\n",
    "def summer1(t,i, a):\n",
    "    if i == 0:\n",
    "        return t[0] + a\n",
    "    else:\n",
    "        return summer1(t, i - 1, t[i] + a)"
   ]
  },
  {
   "cell_type": "code",
   "execution_count": 14,
   "id": "2876cb09-57cb-47d9-a794-a8990e469698",
   "metadata": {},
   "outputs": [
    {
     "data": {
      "text/plain": [
       "50"
      ]
     },
     "execution_count": 14,
     "metadata": {},
     "output_type": "execute_result"
    }
   ],
   "source": [
    "sum1(t)"
   ]
  },
  {
   "cell_type": "code",
   "execution_count": 15,
   "id": "29fcf923-625e-41fc-90bb-d0df5b88f2fa",
   "metadata": {},
   "outputs": [],
   "source": [
    "# squareroot function \n",
    "\n",
    "def sqroot(t):\n",
    "    return sqrooted(t)\n",
    "\n",
    "def sqrooted(t):\n",
    "    if isinstance(t, list):\n",
    "        return [sqrooted(x) for x in t]\n",
    "    else: return sqrt(t)"
   ]
  },
  {
   "cell_type": "code",
   "execution_count": 16,
   "id": "d492e0df-cbf0-4fce-96f7-e31d33681e64",
   "metadata": {},
   "outputs": [
    {
     "data": {
      "text/plain": [
       "[3.0, 4.0, 5.0]"
      ]
     },
     "execution_count": 16,
     "metadata": {},
     "output_type": "execute_result"
    }
   ],
   "source": [
    "sqroot(t)"
   ]
  },
  {
   "cell_type": "code",
   "execution_count": 17,
   "id": "0a010b62-98d6-462c-8846-466cd91903c7",
   "metadata": {},
   "outputs": [],
   "source": [
    "# square function \n",
    "\n",
    "def sqr(t):\n",
    "    return sqred(t)\n",
    "\n",
    "def sqred(t):\n",
    "    if isinstance(t, list):\n",
    "        return [sqred(x) for x in t]\n",
    "    else: return  t * t"
   ]
  },
  {
   "cell_type": "code",
   "execution_count": 18,
   "id": "dca021a0-9ac2-42ab-ae02-e5d8df5657ff",
   "metadata": {},
   "outputs": [],
   "source": [
    "# pairwise sum\n",
    "\n",
    "def hadamard_sum(a, b):\n",
    "    if isinstance(a, list) and isinstance(b, list):\n",
    "        return [hadamard_sum(x, y) for x, y in zip(a, b)]\n",
    "    elif isinstance(a, list):\n",
    "        return [hadamard_sum(x, b) for x in a]\n",
    "    elif isinstance(b, list):\n",
    "        return [hadamard_sum(a, y) for y in b]\n",
    "    else:\n",
    "        return a + b\n",
    "\n",
    "\n",
    "def hadamard_sub(a, b):\n",
    "    if isinstance(a, list) and isinstance(b, list):\n",
    "        return [hadamard_sub(x, y) for x, y in zip(a, b)]\n",
    "    elif isinstance(a, list):\n",
    "        return [hadamard_sub(x, b) for x in a]\n",
    "    elif isinstance(b, list):\n",
    "        return [hadamard_sub(a, y) for y in b]\n",
    "    else:\n",
    "        return a - b\n"
   ]
  },
  {
   "cell_type": "code",
   "execution_count": 19,
   "id": "6c476f20-1dcb-4b08-b247-0ffd27242213",
   "metadata": {},
   "outputs": [],
   "source": [
    "# pairwise product\n",
    "\n",
    "def hadamard_product(a, b):\n",
    "    if isinstance(a, list) and isinstance(b, list):\n",
    "        return [hadamard_product(x, y) for x, y in zip(a, b)]\n",
    "    elif isinstance(a, list):\n",
    "        return [hadamard_product(x, b) for x in a]\n",
    "    elif isinstance(b, list):\n",
    "        return [hadamard_product(a, y) for y in b]\n",
    "    else:\n",
    "        return a * b"
   ]
  },
  {
   "cell_type": "code",
   "execution_count": 36,
   "id": "214f761e-f7a1-4a34-b2ab-bce96646fffb",
   "metadata": {},
   "outputs": [],
   "source": [
    "# Define a linear model: y = theta[0] * x + theta[1]\n",
    "def line(xs):\n",
    "    return lambda theta: [theta[0] * x + theta[1] for x in xs]\n",
    "\n",
    "# Define a \"plane\" function: y = dot(theta[:-1], t) + theta[-1]\n",
    "def plane(ts):  # ts is a list of input vectors: [[x1, x2], [x1, x2], ...]\n",
    "    return lambda theta: [\n",
    "        sum(t_i * w_i for t_i, w_i in zip(t, theta[:-1])) + theta[-1]\n",
    "        for t in ts\n",
    "    ]\n",
    "\n",
    "# Define a second order quadratic model: y = theta[0] * x * x + theta[1] * x + theta[2]\n",
    "def curve(xs):\n",
    "   return lambda theta: [theta[0] * x * x + theta[1] * x + theta[2] for x in xs]\n",
    "\n",
    "\n",
    "# Define the L2 loss function builder (squared error loss)\n",
    "def l2_loss(model):\n",
    "    def loss_on(xs, ys):\n",
    "        def compute_loss(theta):\n",
    "            pred_ys = model(xs)(theta)  # Predict outputs using current theta\n",
    "            diffs = hadamard_sub(ys, pred_ys)  # Elementwise difference between actual and predicted\n",
    "            return sum1(sqr(diffs))  # Sum of squared differences\n",
    "        return compute_loss\n",
    "    return loss_on\n",
    "\n",
    "# Compute numerical gradient using finite differences\n",
    "def numerical_gradient(loss_fn, theta, delta=1e-5):\n",
    "    grad = []\n",
    "    for i in range(len(theta)):\n",
    "        theta_perturbed = theta[:]  # Copy to avoid in-place mutation\n",
    "        theta_perturbed[i] += delta  # Apply small change to one dimension\n",
    "        grad_i = (loss_fn(theta_perturbed) - loss_fn(theta)) / delta  # Finite difference\n",
    "        grad.append(grad_i)\n",
    "    return grad\n",
    "\n",
    "# Build a gradient descent function with a fixed learning rate alpha\n",
    "def gradient_descent(loss_fn, alpha):\n",
    "    def update(theta):\n",
    "        grads = numerical_gradient(loss_fn, theta)  # Compute gradient at theta\n",
    "        return [th - alpha * g for th, g in zip(theta, grads)]  # Apply gradient step\n",
    "    return update\n",
    "\n",
    "# Recursively apply gradient updates 'revs' times starting from initial theta\n",
    "def revise(f, revs, theta):\n",
    "    if revs == 0:\n",
    "        return theta\n",
    "    else:\n",
    "        return revise(f, revs - 1, f(theta))\n",
    "\n",
    "# High-level wrapper to apply all hyperparameters at once\n",
    "def with_hypers(hypers, loss_fn, init_theta):\n",
    "    alpha = hypers.get('alpha')  # Learning rate\n",
    "    revs = hypers.get('revs')    # Number of gradient descent steps\n",
    "    return revise(gradient_descent(loss_fn, alpha), revs, init_theta)"
   ]
  },
  {
   "cell_type": "code",
   "execution_count": 37,
   "id": "7c6371a6-4668-4ca0-b47e-ec6b4f076655",
   "metadata": {
    "scrolled": true
   },
   "outputs": [
    {
     "name": "stdout",
     "output_type": "stream",
     "text": [
      "Final theta: [3.9776771195946576, 2.0495932268171035, 5.786797893779298]\n"
     ]
    }
   ],
   "source": [
    "# --- Example usage ---\n",
    "\n",
    "# Sample dataset: xs are inputs, ys are target outputs (y ≈ 2x + 0.1)\n",
    "# Input vectors (2D features)\n",
    "xs = [\n",
    "    [1.0, 2.05],\n",
    "    [1.0, 3.0],\n",
    "    [2.0, 2.0],\n",
    "    [2.0, 3.91],\n",
    "    [3.0, 6.13],\n",
    "    [4.0, 8.09],\n",
    "]\n",
    "\n",
    "# Target outputs\n",
    "ys = [13.99, 15.99, 18.0, 22.4, 30.2, 37.94]\n",
    "\n",
    "# Build a loss function based on the data and model\n",
    "# loss = l2_loss(line)(xs, ys)\n",
    "# loss = l2_loss(curve)(xs, ys)\n",
    "loss = l2_loss(plane)(xs, ys)\n",
    "\n",
    "# Define hyperparameters\n",
    "hypers = {\n",
    "    'alpha': 0.001,    # Learning rate\n",
    "    'revs': 1000      # Number of training steps\n",
    "}\n",
    "\n",
    "# Initial guess for theta\n",
    "init_theta = [0.0, 0.0, 0.0]\n",
    "\n",
    "# Train the model using gradient descent\n",
    "final_theta = with_hypers(hypers, loss, init_theta)\n",
    "\n",
    "print(\"Final theta:\", final_theta)  # Should be close to [2.0, 0.1]"
   ]
  },
  {
   "cell_type": "code",
   "execution_count": 40,
   "id": "83cfd7dc-3285-4899-8468-fdaf9cd4325c",
   "metadata": {},
   "outputs": [
    {
     "name": "stdout",
     "output_type": "stream",
     "text": [
      "30.283835732952117\n"
     ]
    }
   ],
   "source": [
    "print(final_theta[0]*3 + final_theta[1]*6.13 + final_theta[2])"
   ]
  },
  {
   "cell_type": "code",
   "execution_count": null,
   "id": "1b3bbb0a-f4f4-4ada-84f3-97cc05ff66eb",
   "metadata": {},
   "outputs": [],
   "source": []
  }
 ],
 "metadata": {
  "kernelspec": {
   "display_name": "Python 3 (ipykernel)",
   "language": "python",
   "name": "python3"
  },
  "language_info": {
   "codemirror_mode": {
    "name": "ipython",
    "version": 3
   },
   "file_extension": ".py",
   "mimetype": "text/x-python",
   "name": "python",
   "nbconvert_exporter": "python",
   "pygments_lexer": "ipython3",
   "version": "3.13.3"
  }
 },
 "nbformat": 4,
 "nbformat_minor": 5
}
